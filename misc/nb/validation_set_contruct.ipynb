{
 "cells": [
  {
   "attachments": {},
   "cell_type": "markdown",
   "metadata": {},
   "source": [
    "### 评测流程：\n",
    " 1. 最easy的流程：从laion6plus中抽取500张图片作为验证集 --> 使用inference生成对应的图像 --> 使用gen的脚本进行评测\n",
    " 2. scale up 图片数量 和 使用stable diffusion生成的图像作为GT\n",
    "\n",
    "每次评测的时候都要重新生成一次图片，生成的图片需要save到对应的文件夹下面， 然后我再来这边更改的话十分麻烦，我干脆把这个步骤跟生成合二为一即可！\n",
    "\n",
    "后面更可以考虑跟评测合二为一;\n",
    "\n",
    "再后面直接考虑跟训练合二为一； \n",
    "\n",
    "最希望的是，我从最上层想要做一件什么事情，修改一下代码和对应的参数，直接给一个实验名字，所有的训练日志，ckpt, 评测结果都存到一个对应的地方可以方便地查看，而后分析结果即可；\n"
   ]
  },
  {
   "cell_type": "code",
   "execution_count": 1,
   "metadata": {},
   "outputs": [],
   "source": [
    "import json\n",
    "import random\n",
    "import shutil\n",
    "\n",
    "n = 10000\n",
    "\n",
    "#### samle 10000个图文对\n",
    "path = '/share/project/yfl/codebase/nb/laion6plus/part_1.json'\n",
    "with open(path, 'r') as fn:\n",
    "    d = json.load(fn)\n",
    "\n",
    "\n",
    "samples = random.sample(d, n)\n",
    "\n",
    "## 把samples的图像搬到自己的文件夹\n",
    "\n",
    "for smaple in samples:\n",
    "    val_dir = './validation/gt_imgs/'\n",
    "    source = smaple['image']\n",
    "    # file_name = source.split('/')[-1]\n",
    "    target = val_dir\n",
    "    shutil.copy(source, target)\n",
    "    \n",
    "### save 500个图文对\n",
    "save_path = './validation/gt.json'\n",
    "\n",
    "with open(save_path, 'w') as fn:\n",
    "    json.dump(samples, fn)"
   ]
  },
  {
   "cell_type": "code",
   "execution_count": 4,
   "metadata": {},
   "outputs": [
    {
     "data": {
      "text/plain": [
       "{'source_caption': 'The Warriors of Dick Fight Island (Front L to R): Vampyr, Pisao, Taling, Judah, Lolo, Blanc (Back L to R): Sicolenaga and Hart',\n",
       " 'image': '/share/projset/baaishare/laion6plus/train-00005/00185/00185287.jpg'}"
      ]
     },
     "execution_count": 4,
     "metadata": {},
     "output_type": "execute_result"
    }
   ],
   "source": [
    "samples[0]"
   ]
  },
  {
   "attachments": {},
   "cell_type": "markdown",
   "metadata": {},
   "source": [
    "## 构建COCO 2017 valset"
   ]
  },
  {
   "cell_type": "code",
   "execution_count": 1,
   "metadata": {},
   "outputs": [],
   "source": [
    "import json\n",
    "\n",
    "path = '/share/project/yfl/database/annotations2017/captions_val2017.json'\n",
    "\n",
    "with open(path, 'r') as fn:\n",
    "    d = json.load(fn) "
   ]
  },
  {
   "cell_type": "code",
   "execution_count": 2,
   "metadata": {},
   "outputs": [
    {
     "data": {
      "text/plain": [
       "dict_keys(['info', 'licenses', 'images', 'annotations'])"
      ]
     },
     "execution_count": 2,
     "metadata": {},
     "output_type": "execute_result"
    }
   ],
   "source": [
    "d.keys()"
   ]
  },
  {
   "cell_type": "code",
   "execution_count": 3,
   "metadata": {},
   "outputs": [
    {
     "data": {
      "text/plain": [
       "25014"
      ]
     },
     "execution_count": 3,
     "metadata": {},
     "output_type": "execute_result"
    }
   ],
   "source": [
    "len(d['annotations'])"
   ]
  },
  {
   "cell_type": "code",
   "execution_count": 4,
   "metadata": {},
   "outputs": [],
   "source": [
    "import random\n",
    "\n",
    "n = 10000\n",
    "\n",
    "samples = random.sample(d['annotations'], n)"
   ]
  },
  {
   "cell_type": "code",
   "execution_count": 14,
   "metadata": {},
   "outputs": [
    {
     "data": {
      "text/plain": [
       "{'image_id': 562197,\n",
       " 'id': 2696,\n",
       " 'caption': 'Three pictures of plates with salads, including beans, fish and vegetables.'}"
      ]
     },
     "execution_count": 14,
     "metadata": {},
     "output_type": "execute_result"
    }
   ],
   "source": [
    "samples[0]"
   ]
  },
  {
   "cell_type": "code",
   "execution_count": 5,
   "metadata": {},
   "outputs": [],
   "source": [
    "import shutil\n",
    "import json\n",
    "\n",
    "img_root = '/share/project/yfl/database/val2017/'\n",
    "tgt_root= '/share/project/yfl/codebase/git/AltTools/Altdiffusion/misc/coco_evaluation/gt_imgs/'\n",
    "result = []\n",
    "\n",
    "for sample in samples:\n",
    "    caption = sample['caption']\n",
    "    image_source = img_root + str(sample['image_id']).zfill(12) + '.jpg'\n",
    "    image_tgt = tgt_root + str(sample['image_id']).zfill(12) + '.jpg'\n",
    "    shutil.copy(image_source, tgt_root)\n",
    "    result.append(\n",
    "        {\n",
    "            'source_caption': caption,\n",
    "            'image': image_tgt \n",
    "        }\n",
    "    )        \n",
    "\n",
    "with open('/share/project/yfl/codebase/git/AltTools/Altdiffusion/misc/coco_evaluation/gt.json', 'w') as fn:\n",
    "    json.dump(result, fn)"
   ]
  },
  {
   "cell_type": "code",
   "execution_count": 1,
   "metadata": {},
   "outputs": [],
   "source": [
    "import json\n",
    "\n",
    "path = '/share/project/yfl/codebase/nb/laion6plus/slices_96/slice_0.json'\n",
    "\n",
    "with open(path, 'r') as fn:\n",
    "    d = json.load(fn)"
   ]
  },
  {
   "cell_type": "code",
   "execution_count": 2,
   "metadata": {},
   "outputs": [
    {
     "data": {
      "text/plain": [
       "{'source_caption': \"<i>Django Unchained</i>'s Second Trailer Released\",\n",
       " 'image': '/share/projset/baaishare/laion6plus/train-00002/00927/00927878.jpg',\n",
       " 'target_caption': \"<i>Django Unchained</i>'s Second Trailer Released\",\n",
       " 'target': 'fr_XX'}"
      ]
     },
     "execution_count": 2,
     "metadata": {},
     "output_type": "execute_result"
    }
   ],
   "source": [
    "d[0]"
   ]
  },
  {
   "cell_type": "code",
   "execution_count": 3,
   "metadata": {},
   "outputs": [
    {
     "data": {
      "text/plain": [
       "'/share/project/yfl/database/val2017/000000175438.jpg'"
      ]
     },
     "execution_count": 3,
     "metadata": {},
     "output_type": "execute_result"
    }
   ],
   "source": [
    "import glob\n",
    "\n",
    "img_root = '/share/project/yfl/database/val2017/*'\n",
    "img_paths = glob.glob(img_root)\n",
    "\n",
    "img_paths[0]"
   ]
  },
  {
   "cell_type": "code",
   "execution_count": 5,
   "metadata": {},
   "outputs": [],
   "source": [
    "import shutil\n",
    "tgt_root= '/share/project/yfl/codebase/git/AltTools/Altdiffusion/misc/coco_evaluation/gt_imgs/'\n",
    "for img_path in img_paths:\n",
    "    shutil.copy(img_path, tgt_root)      "
   ]
  },
  {
   "cell_type": "code",
   "execution_count": null,
   "metadata": {},
   "outputs": [],
   "source": []
  }
 ],
 "metadata": {
  "kernelspec": {
   "display_name": "Python3.8",
   "language": "python",
   "name": "base"
  },
  "language_info": {
   "codemirror_mode": {
    "name": "ipython",
    "version": 3
   },
   "file_extension": ".py",
   "mimetype": "text/x-python",
   "name": "python",
   "nbconvert_exporter": "python",
   "pygments_lexer": "ipython3",
   "version": "3.8.8"
  },
  "orig_nbformat": 4
 },
 "nbformat": 4,
 "nbformat_minor": 2
}
